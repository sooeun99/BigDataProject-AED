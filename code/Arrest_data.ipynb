{
 "cells": [
  {
   "cell_type": "markdown",
   "id": "69122bb7-404c-4b39-a450-3b73e467d63d",
   "metadata": {},
   "source": [
    "## 급성심정지환자\n",
    "- 데이터 \n",
    "    - ohca_18xlsx.XLS(질병관리청, 급성심정지 2018년도 데이터)\n",
    "    - ohca_19.xlsx(질병관리청, 급성심정지 2019년도 데이터)\n",
    "    - ohca_20.xlsx(질병관리청, 급성심정지 2020년도 데이터)\n",
    "    - 서울시_구별_급성심정지환자(발생지기준).csv\n",
    "        - 발생지기준 : (환자발생장소_시도를 '서울'로 전처리하고 환자발생장소_시군구가 '소재지'인 데이터)"
   ]
  },
  {
   "cell_type": "code",
   "execution_count": null,
   "id": "eda3a002-0895-4cb0-8316-a78737cb2cec",
   "metadata": {},
   "outputs": [],
   "source": [
    "# YEAR: 급성심장정지 발생 연도\n",
    "# P_ADD_CITY : 환작거주지_시도\n",
    "# P_ADD_DIST: 환자거주지_시군구\n",
    "# H_SEX: 성별\n",
    "    # 1. 남자\n",
    "    # 2. 여자\n",
    "# AGE: 연령(만 나이)\n",
    "# F_HAPP_ADD_CITY : 환자발생장소_시도\n",
    "# F_HAPP_ADD_DIST: 환자 발생장소_시군구\n",
    "# BYSTANDER_CPR_ELSE : 일반인 심폐소생술 시행종류 \n",
    "    # 1. 심폐소생술(CPR)\n",
    "    # 2. 자동심장충격기(AED)\n",
    "    # 3. CPR+AED\n",
    "# H_PLACE_PUBLIC : 급성심장정지 발생 장소\n",
    "    # 1. 공공장소\n",
    "    # 2. 비공공장소\n",
    "    # 3. 기타\n",
    "    # 4. 미상 "
   ]
  },
  {
   "cell_type": "markdown",
   "id": "6a426218-abe8-457a-b7d5-936a290b4ba3",
   "metadata": {},
   "source": [
    "## 발생지 기준 "
   ]
  },
  {
   "cell_type": "code",
   "execution_count": null,
   "id": "74685f0f-78da-42e3-9dee-98a15a4b96a7",
   "metadata": {},
   "outputs": [],
   "source": [
    "import pandas as pd\n",
    "import numpy as np"
   ]
  },
  {
   "cell_type": "code",
   "execution_count": null,
   "id": "5ab461c1-748e-4b83-9879-a640aeb9c8d9",
   "metadata": {},
   "outputs": [],
   "source": [
    "# 2018년도/2019년도/2020년도 급성심정지환자 데이터 불러오기 \n",
    "arrest_18 = pd.read_excel(\"C:/sooeun/DATAexam/전공프로젝트(빅데이터)/data/ohca_18xlsx.XLS\")\n",
    "arrest_19 = pd.read_excel(\"C:/sooeun/DATAexam/전공프로젝트(빅데이터)/data/ohca_19.xlsx\")\n",
    "arrest_20 = pd.read_excel(\"C:/sooeun/DATAexam/전공프로젝트(빅데이터)/data/ohca_20.xlsx\")"
   ]
  },
  {
   "cell_type": "code",
   "execution_count": null,
   "id": "a7492cf5-4560-458a-90d0-0524011530b3",
   "metadata": {},
   "outputs": [],
   "source": [
    "# 필요한 컬럼만 추출 \n",
    "arrest_18_df = arrest_18[['YEAR', 'P_ADD_CITY','P_ADD_DIST','H_SEX', 'AGE', 'F_HAPP_ADD_CITY', 'F_HAPP_ADD_DIST', 'BYSTANDER_CPR_ELSE','H_PLACE_PUBLIC']]\n",
    "arrest_19_df = arrest_19[['YEAR', 'P_ADD_CITY','P_ADD_DIST','H_SEX', 'AGE', 'F_HAPP_ADD_CITY', 'F_HAPP_ADD_DIST', 'BYSTANDER_CPR_ELSE','H_PLACE_PUBLIC']]\n",
    "arrest_20_df = arrest_20[['YEAR', 'P_ADD_CITY','P_ADD_DIST','H_SEX', 'AGE', 'F_HAPP_ADD_CITY', 'F_HAPP_ADD_DIST', 'BYSTANDER_CPR_ELSE','H_PLACE_PUBLIC']]"
   ]
  },
  {
   "cell_type": "code",
   "execution_count": null,
   "id": "345bee3c-53be-451d-a591-9ace0f896bf4",
   "metadata": {},
   "outputs": [],
   "source": [
    "arrest_df = pd.concat([arrest_18_df, arrest_19_df, arrest_20_df])"
   ]
  },
  {
   "cell_type": "code",
   "execution_count": null,
   "id": "92c2bff1-b064-413d-9255-00659283fdba",
   "metadata": {},
   "outputs": [],
   "source": [
    "arrest_df"
   ]
  },
  {
   "cell_type": "code",
   "execution_count": null,
   "id": "00ef31a7-eb43-4936-8175-150480bcdd58",
   "metadata": {},
   "outputs": [],
   "source": [
    "seoulgu_arrest_df = arrest_df[(arrest_df['P_ADD_CITY']=='서울')].reset_index()\n",
    "seoulgu_arrest_df"
   ]
  },
  {
   "cell_type": "code",
   "execution_count": null,
   "id": "a2498ed9-5124-4594-baa9-cae35634c603",
   "metadata": {},
   "outputs": [],
   "source": [
    "seoulgu_arrest_df = seoulgu_arrest_df.drop(['index'],axis='columns')\n",
    "seoulgu_arrest_df"
   ]
  },
  {
   "cell_type": "code",
   "execution_count": null,
   "id": "9941e223-9e80-4028-904e-4c31a149cab1",
   "metadata": {},
   "outputs": [],
   "source": [
    "seoulgu_arrest_df[\"성별\"] = [\n",
    "    \"남성\" if x == 1 else\n",
    "    \"여성\" for x in seoulgu_arrest_df.H_SEX]"
   ]
  },
  {
   "cell_type": "code",
   "execution_count": null,
   "id": "3c7dc996-7e59-406a-a8ff-78c4a94e4012",
   "metadata": {},
   "outputs": [],
   "source": [
    "seoulgu_arrest_df[\"연령대\"] = [\n",
    "    \"소아청소년\" if x < 19 else\n",
    "    \"청년\" if x <= 29 else \n",
    "    \"중년\" if x <= 49 else \n",
    "    \"장년\" if x <= 64 else \n",
    "    \"노년\" for x in seoulgu_arrest_df.AGE\n",
    "]"
   ]
  },
  {
   "cell_type": "code",
   "execution_count": null,
   "id": "09564e0d-9142-4711-8aa1-91b73a71738a",
   "metadata": {},
   "outputs": [],
   "source": [
    "seoulgu_arrest_df[\"시행종류\"] = [\n",
    "    \"CPR\" if x == 1.0 else\n",
    "    \"AED\" if x == 2.0 else \n",
    "    \"CPR+AED\" if x == 3.0 else \n",
    "    \"NO\" for x in seoulgu_arrest_df.BYSTANDER_CPR_ELSE]\n",
    "# 1. 심폐소생술(CPR)\n",
    "# 2. 자동심장충격기(AED)\n",
    "# 3. CPR+AED"
   ]
  },
  {
   "cell_type": "code",
   "execution_count": null,
   "id": "09cd5880-9091-4fb5-b2f3-2246f5e682cd",
   "metadata": {},
   "outputs": [],
   "source": [
    "seoulgu_arrest_df[\"발생장소\"] = [\n",
    "    \"공공장소\" if x == 1.0 else\n",
    "    \"비공공장소\" if x == 2.0 else \n",
    "    \"기타\" if x == 3.0 else \n",
    "    \"미상\" for x in seoulgu_arrest_df.H_PLACE_PUBLIC]\n",
    "# 1. 공공장소\n",
    "# 2. 비공공장소\n",
    "# 3. 기타\n",
    "# 4. 미상 "
   ]
  },
  {
   "cell_type": "code",
   "execution_count": null,
   "id": "47beed19-81fc-4a58-9346-e254d0f508a9",
   "metadata": {},
   "outputs": [],
   "source": [
    "seoulgu_arrest_df"
   ]
  },
  {
   "cell_type": "code",
   "execution_count": null,
   "id": "e503b650-e6b2-44fa-93a9-83ad0ecb9ab8",
   "metadata": {},
   "outputs": [],
   "source": [
    "seoulgu_arrest_df = seoulgu_arrest_df.drop(['H_SEX'],axis='columns')"
   ]
  },
  {
   "cell_type": "code",
   "execution_count": null,
   "id": "3997b65f-fcc1-4f93-a654-140b99bd35f7",
   "metadata": {},
   "outputs": [],
   "source": [
    "seoulgu_arrest_df = seoulgu_arrest_df.drop(['BYSTANDER_CPR_ELSE'],axis='columns')"
   ]
  },
  {
   "cell_type": "code",
   "execution_count": null,
   "id": "cb0bcc25-49c3-42c7-b1ec-53290b190bd5",
   "metadata": {},
   "outputs": [],
   "source": [
    "seoulgu_arrest_df = seoulgu_arrest_df.drop(['H_PLACE_PUBLIC'],axis='columns')"
   ]
  },
  {
   "cell_type": "code",
   "execution_count": null,
   "id": "f7354dac-fa8c-4798-b4c0-3907ef5f1921",
   "metadata": {},
   "outputs": [],
   "source": [
    "seoulgu_arrest_df"
   ]
  },
  {
   "cell_type": "code",
   "execution_count": null,
   "id": "fd04a7eb-0a8d-4176-bc2e-1bb17aab105c",
   "metadata": {},
   "outputs": [],
   "source": [
    "# YEAR: 급성심장정지 발생 연도\n",
    "# P_ADD_CITY : 환작거주지_시도\n",
    "# P_ADD_DIST: 환자거주지_시군구\n",
    "# H_SEX: 성별\n",
    "    # 1. 남자\n",
    "    # 2. 여자\n",
    "# AGE: 연령(만 나이)\n",
    "# F_HAPP_ADD_CITY : 환자발생장소_시도\n",
    "# F_HAPP_ADD_DIST: 환자 발생장소_시군구\n",
    "# BYSTANDER_CPR_ELSE : 일반인 심폐소생술 시행종류 \n",
    "    # 1. 심폐소생술(CPR)\n",
    "    # 2. 자동심장충격기(AED)\n",
    "    # 3. CPR+AED\n",
    "# H_PLACE_PUBLIC : 급성심장정지 발생 장소\n",
    "    # 1. 공공장소\n",
    "    # 2. 비공공장소\n",
    "    # 3. 기타\n",
    "    # 4. 미상 "
   ]
  },
  {
   "cell_type": "code",
   "execution_count": null,
   "id": "f6fbbcac-0ea2-4ffa-9dbc-ba1c775bd146",
   "metadata": {},
   "outputs": [],
   "source": [
    "seoulgu_arrest_df.rename(columns={\"YEAR\": \"발생년도\",\n",
    "                                    \"P_ADD_CITY\" : \"환자거주지_시도\",\n",
    "                                    \"P_ADD_DIST\" : \"소재지\",\n",
    "                                   \"AGE\": \"연령(만)\",\n",
    "                                  \"F_HAPP_ADD_CITY\" : \"환자발생장소_시도\",\n",
    "                                  \"F_HAPP_ADD_DIST\" : \"환자발생장소_시군구\"}, inplace=True)"
   ]
  },
  {
   "cell_type": "code",
   "execution_count": null,
   "id": "e12eb577-b74e-49af-996a-d40bf84f1873",
   "metadata": {},
   "outputs": [],
   "source": [
    "seoulgu_arrest_df"
   ]
  },
  {
   "cell_type": "code",
   "execution_count": null,
   "id": "5d4a7a89-0848-4b08-af28-f487c5dcfe82",
   "metadata": {},
   "outputs": [],
   "source": [
    "seoulgu_arrest_df = seoulgu_arrest_df[[\"발생년도\", \"환자거주지_시도\", \"소재지\",\"성별\",\"연령(만)\",\"연령대\",\"환자발생장소_시도\",\"환자발생장소_시군구\",\"발생장소\",\"시행종류\"]]"
   ]
  },
  {
   "cell_type": "code",
   "execution_count": null,
   "id": "d0cf1439-8659-4901-a058-edd01b645e54",
   "metadata": {},
   "outputs": [],
   "source": [
    "seoulgu_arrest_df"
   ]
  },
  {
   "cell_type": "code",
   "execution_count": null,
   "id": "c103f988-1bba-4bb4-8d2c-dba17218b36b",
   "metadata": {},
   "outputs": [],
   "source": [
    "# 저장 후 주석처리\n",
    "# seoulgu_arrest_df.to_csv(\"C:/sooeun/DATAexam/전공프로젝트(빅데이터)/data/서울시_구별_급성심정지환자(거주지기준).csv\") "
   ]
  },
  {
   "cell_type": "markdown",
   "id": "4675712d-1fa0-4c1c-bfef-86a6a5c5c547",
   "metadata": {},
   "source": [
    "## 발생지 기준 "
   ]
  },
  {
   "cell_type": "code",
   "execution_count": null,
   "id": "b239676f-6a1c-4e3d-b3b4-e82a5846727e",
   "metadata": {},
   "outputs": [],
   "source": [
    "import pandas as pd\n",
    "import numpy as np"
   ]
  },
  {
   "cell_type": "code",
   "execution_count": null,
   "id": "031e5a7b-3248-4326-8949-ad8af87924b1",
   "metadata": {},
   "outputs": [],
   "source": [
    "# 2018년도/2019년도/2020년도 급성심정지환자 데이터 불러오기 \n",
    "arrest_18 = pd.read_excel(\"C:/sooeun/DATAexam/전공프로젝트(빅데이터)/data/ohca_18xlsx.XLS\")\n",
    "arrest_19 = pd.read_excel(\"C:/sooeun/DATAexam/전공프로젝트(빅데이터)/data/ohca_19.xlsx\")\n",
    "arrest_20 = pd.read_excel(\"C:/sooeun/DATAexam/전공프로젝트(빅데이터)/data/ohca_20.xlsx\")"
   ]
  },
  {
   "cell_type": "code",
   "execution_count": null,
   "id": "0785c8de-66da-4f3c-b5ab-1f24da3c78cf",
   "metadata": {},
   "outputs": [],
   "source": [
    "# 필요한 컬럼만 추출 \n",
    "arrest_18_df = arrest_18[['YEAR', 'P_ADD_CITY','P_ADD_DIST','H_SEX', 'AGE', 'F_HAPP_ADD_CITY', 'F_HAPP_ADD_DIST', 'BYSTANDER_CPR_ELSE','H_PLACE_PUBLIC']]\n",
    "arrest_19_df = arrest_19[['YEAR', 'P_ADD_CITY','P_ADD_DIST','H_SEX', 'AGE', 'F_HAPP_ADD_CITY', 'F_HAPP_ADD_DIST', 'BYSTANDER_CPR_ELSE','H_PLACE_PUBLIC']]\n",
    "arrest_20_df = arrest_20[['YEAR', 'P_ADD_CITY','P_ADD_DIST','H_SEX', 'AGE', 'F_HAPP_ADD_CITY', 'F_HAPP_ADD_DIST', 'BYSTANDER_CPR_ELSE','H_PLACE_PUBLIC']]"
   ]
  },
  {
   "cell_type": "code",
   "execution_count": null,
   "id": "c053c6ba-5bb5-4e86-a4d3-6c0fd2370be1",
   "metadata": {},
   "outputs": [],
   "source": [
    "arrest_df = pd.concat([arrest_18_df, arrest_19_df, arrest_20_df])"
   ]
  },
  {
   "cell_type": "code",
   "execution_count": null,
   "id": "5c29eaf9-fc1e-484a-91f1-8549dacba738",
   "metadata": {},
   "outputs": [],
   "source": [
    "arrest_df"
   ]
  },
  {
   "cell_type": "code",
   "execution_count": null,
   "id": "e46fba64-0c3b-47b4-8a48-fc68adec3ca5",
   "metadata": {},
   "outputs": [],
   "source": [
    "seoulgu_arrest_df = arrest_df[(arrest_df['F_HAPP_ADD_CITY']=='서울')].reset_index()\n",
    "seoulgu_arrest_df"
   ]
  },
  {
   "cell_type": "code",
   "execution_count": null,
   "id": "2e629217-7ace-4097-897c-04691cc3dc0e",
   "metadata": {},
   "outputs": [],
   "source": [
    "seoulgu_arrest_df = seoulgu_arrest_df.drop(['index'],axis='columns')\n",
    "seoulgu_arrest_df"
   ]
  },
  {
   "cell_type": "code",
   "execution_count": null,
   "id": "bc462392-7c88-4fa8-97bb-55f1d6fcc1d8",
   "metadata": {},
   "outputs": [],
   "source": [
    "seoulgu_arrest_df[\"성별\"] = [\n",
    "    \"남성\" if x == 1 else\n",
    "    \"여성\" for x in seoulgu_arrest_df.H_SEX]"
   ]
  },
  {
   "cell_type": "code",
   "execution_count": null,
   "id": "d03f5cde-09f0-48d5-b4ff-477d027be907",
   "metadata": {},
   "outputs": [],
   "source": [
    "seoulgu_arrest_df[\"연령대\"] = [\n",
    "    \"소아청소년\" if x < 19 else\n",
    "    \"청년\" if x <= 29 else \n",
    "    \"중년\" if x <= 49 else \n",
    "    \"장년\" if x <= 64 else \n",
    "    \"노년\" for x in seoulgu_arrest_df.AGE\n",
    "]"
   ]
  },
  {
   "cell_type": "code",
   "execution_count": null,
   "id": "6ad30b6a-df43-4422-ba9b-4916b2759f0d",
   "metadata": {},
   "outputs": [],
   "source": [
    "seoulgu_arrest_df[\"시행종류\"] = [\n",
    "    \"CPR\" if x == 1.0 else\n",
    "    \"AED\" if x == 2.0 else \n",
    "    \"CPR+AED\" if x == 3.0 else \n",
    "    \"NO\" for x in seoulgu_arrest_df.BYSTANDER_CPR_ELSE]\n",
    "# 1. 심폐소생술(CPR)\n",
    "# 2. 자동심장충격기(AED)\n",
    "# 3. CPR+AED"
   ]
  },
  {
   "cell_type": "code",
   "execution_count": null,
   "id": "4a633913-f806-44a3-8176-bd2d1c61b7c0",
   "metadata": {},
   "outputs": [],
   "source": [
    "seoulgu_arrest_df[\"발생장소\"] = [\n",
    "    \"공공장소\" if x == 1.0 else\n",
    "    \"비공공장소\" if x == 2.0 else \n",
    "    \"기타\" if x == 3.0 else \n",
    "    \"미상\" for x in seoulgu_arrest_df.H_PLACE_PUBLIC]\n",
    "# 1. 공공장소\n",
    "# 2. 비공공장소\n",
    "# 3. 기타\n",
    "# 4. 미상 "
   ]
  },
  {
   "cell_type": "code",
   "execution_count": null,
   "id": "f73ae3f8-b307-433b-af13-d9d6b9b0b2b8",
   "metadata": {},
   "outputs": [],
   "source": [
    "seoulgu_arrest_df"
   ]
  },
  {
   "cell_type": "code",
   "execution_count": null,
   "id": "bba0a216-4b66-4ebb-b927-d16c8f14cef2",
   "metadata": {},
   "outputs": [],
   "source": [
    "seoulgu_arrest_df = seoulgu_arrest_df.drop(['H_SEX'],axis='columns')"
   ]
  },
  {
   "cell_type": "code",
   "execution_count": null,
   "id": "2446429d-08f2-4132-9ef8-8fed85a550de",
   "metadata": {},
   "outputs": [],
   "source": [
    "seoulgu_arrest_df = seoulgu_arrest_df.drop(['BYSTANDER_CPR_ELSE'],axis='columns')"
   ]
  },
  {
   "cell_type": "code",
   "execution_count": null,
   "id": "ff1597cb-f610-4f7e-bb72-e376b1e5e5a9",
   "metadata": {},
   "outputs": [],
   "source": [
    "seoulgu_arrest_df = seoulgu_arrest_df.drop(['H_PLACE_PUBLIC'],axis='columns')"
   ]
  },
  {
   "cell_type": "code",
   "execution_count": null,
   "id": "fb729d25-2e89-47e6-bc50-006da01a41fa",
   "metadata": {},
   "outputs": [],
   "source": [
    "seoulgu_arrest_df"
   ]
  },
  {
   "cell_type": "code",
   "execution_count": null,
   "id": "d4f5fb8f-1709-4084-be02-1cc6edbfd144",
   "metadata": {},
   "outputs": [],
   "source": [
    "seoulgu_arrest_df.rename(columns={\"YEAR\": \"발생년도\",\n",
    "                                    \"P_ADD_CITY\" : \"환자거주지_시도\",\n",
    "                                    \"P_ADD_DIST\" : \"환자거주지_시군구\",\n",
    "                                   \"AGE\": \"연령(만)\",\n",
    "                                  \"F_HAPP_ADD_CITY\" : \"환자발생장소_시도\",\n",
    "                                  \"F_HAPP_ADD_DIST\" : \"소재지\"}, inplace=True)"
   ]
  },
  {
   "cell_type": "code",
   "execution_count": null,
   "id": "2d0ec399-bbba-4302-920e-fcc55a56880f",
   "metadata": {},
   "outputs": [],
   "source": [
    "seoulgu_arrest_df"
   ]
  },
  {
   "cell_type": "code",
   "execution_count": null,
   "id": "d885a83f-60d9-4fed-9608-a03cee7753e1",
   "metadata": {},
   "outputs": [],
   "source": [
    "seoulgu_arrest_df = seoulgu_arrest_df[[\"발생년도\", \"환자발생장소_시도\",\"소재지\",\"성별\",\"연령(만)\",\"연령대\",\"환자거주지_시도\", \"환자거주지_시군구\",\"발생장소\",\"시행종류\"]]"
   ]
  },
  {
   "cell_type": "code",
   "execution_count": null,
   "id": "e1757bc8-d238-4a36-978b-6704bcec83af",
   "metadata": {},
   "outputs": [],
   "source": [
    "seoulgu_arrest_df"
   ]
  },
  {
   "cell_type": "code",
   "execution_count": null,
   "id": "5bdbc54e-2f98-4fb3-a8d4-1e2eef782fa9",
   "metadata": {},
   "outputs": [],
   "source": [
    "# 저장 후 주석처리\n",
    "# seoulgu_arrest_df.to_csv(\"C:/sooeun/DATAexam/전공프로젝트(빅데이터)/data/서울시_구별_급성심정지환자(발생지기준).csv\") "
   ]
  }
 ],
 "metadata": {
  "kernelspec": {
   "display_name": "Python 3 (ipykernel)",
   "language": "python",
   "name": "python3"
  },
  "language_info": {
   "codemirror_mode": {
    "name": "ipython",
    "version": 3
   },
   "file_extension": ".py",
   "mimetype": "text/x-python",
   "name": "python",
   "nbconvert_exporter": "python",
   "pygments_lexer": "ipython3",
   "version": "3.9.15"
  }
 },
 "nbformat": 4,
 "nbformat_minor": 5
}
